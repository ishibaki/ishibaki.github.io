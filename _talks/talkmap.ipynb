{
 "cells": [
  {
   "cell_type": "markdown",
   "metadata": {},
   "source": [
    "# Leaflet cluster map of talk locations\n",
    "\n",
    "Run this from the _talks/ directory, which contains .md files of all your talks. This scrapes the location YAML field from each .md file, geolocates it with geopy/Nominatim, and uses the getorg library to output data, HTML, and Javascript for a standalone cluster map."
   ]
  },
  {
   "cell_type": "code",
   "execution_count": 1,
   "metadata": {},
   "outputs": [
    {
     "name": "stdout",
     "output_type": "stream",
     "text": [
      "Requirement already up-to-date: getorg in /home/tishibaki/.local/lib/python3.7/site-packages (0.3.1)\n",
      "Requirement already satisfied, skipping upgrade: retrying in /home/tishibaki/.local/lib/python3.7/site-packages (from getorg) (1.3.3)\n",
      "Requirement already satisfied, skipping upgrade: pygithub in /home/tishibaki/.local/lib/python3.7/site-packages (from getorg) (1.46)\n",
      "Requirement already satisfied, skipping upgrade: geopy in /home/tishibaki/.local/lib/python3.7/site-packages (from getorg) (1.21.0)\n",
      "Requirement already satisfied, skipping upgrade: six>=1.7.0 in /home/tishibaki/.local/lib/python3.7/site-packages (from retrying->getorg) (1.13.0)\n",
      "Requirement already satisfied, skipping upgrade: deprecated in /home/tishibaki/.local/lib/python3.7/site-packages (from pygithub->getorg) (1.2.7)\n",
      "Requirement already satisfied, skipping upgrade: requests>=2.14.0 in /usr/lib/python3/dist-packages (from pygithub->getorg) (2.21.0)\n",
      "Requirement already satisfied, skipping upgrade: pyjwt in /usr/lib/python3/dist-packages (from pygithub->getorg) (1.7.0)\n",
      "Requirement already satisfied, skipping upgrade: geographiclib<2,>=1.49 in /home/tishibaki/.local/lib/python3.7/site-packages (from geopy->getorg) (1.50)\n",
      "Requirement already satisfied, skipping upgrade: wrapt<2,>=1.10 in /home/tishibaki/.local/lib/python3.7/site-packages (from deprecated->pygithub->getorg) (1.11.2)\n",
      "\u001b[33mWARNING: You are using pip version 19.3.1; however, version 20.0.2 is available.\n",
      "You should consider upgrading via the 'pip install --upgrade pip' command.\u001b[0m\n",
      "Iywidgets and ipyleaflet support disabled. You must be in a Jupyter notebook to use this feature.\n",
      "Error raised:\n",
      "No module named 'ipyleaflet'\n",
      "Check that you have enabled ipyleaflet in Jupyter with:\n",
      "    jupyter nbextension enable --py ipyleaflet\n"
     ]
    }
   ],
   "source": [
    "!pip3 install getorg --user --upgrade\n",
    "import glob\n",
    "import getorg\n",
    "from geopy import Nominatim"
   ]
  },
  {
   "cell_type": "code",
   "execution_count": 9,
   "metadata": {},
   "outputs": [],
   "source": [
    "g = glob.glob(\"*.md\")"
   ]
  },
  {
   "cell_type": "code",
   "execution_count": 10,
   "metadata": {},
   "outputs": [
    {
     "name": "stderr",
     "output_type": "stream",
     "text": [
      "/home/tishibaki/.local/lib/python3.7/site-packages/ipykernel_launcher.py:1: DeprecationWarning: Using Nominatim with the default \"geopy/1.21.0\" `user_agent` is strongly discouraged, as it violates Nominatim's ToS https://operations.osmfoundation.org/policies/nominatim/ and may possibly cause 403 and 429 HTTP errors. Please specify a custom `user_agent` with `Nominatim(user_agent=\"my-application\")` or by overriding the default `user_agent`: `geopy.geocoders.options.default_user_agent = \"my-application\"`. In geopy 2.0 this will become an exception.\n",
      "  \"\"\"Entry point for launching an IPython kernel.\n"
     ]
    }
   ],
   "source": [
    "geocoder = Nominatim()\n",
    "location_dict = {}\n",
    "location = \"\"\n",
    "permalink = \"\"\n",
    "title = \"\""
   ]
  },
  {
   "cell_type": "code",
   "execution_count": 11,
   "metadata": {},
   "outputs": [
    {
     "name": "stdout",
     "output_type": "stream",
     "text": [
      "Sigma Hall, Osaka, Japan \n",
      " 基礎工学部国際棟 (Σホール), 大阪中央環状線, 服部西町四丁目, 豊中市, 大阪府, 560-0043, 日本 (Japan)\n",
      "Sigma Hall, Osaka, Japan \n",
      " 基礎工学部国際棟 (Σホール), 大阪中央環状線, 服部西町四丁目, 豊中市, 大阪府, 560-0043, 日本 (Japan)\n",
      "Shin-Kokaido, Nara, Japan \n",
      " 国際フォーラム甍前, 内侍道, 池之町, 春日野町, 奈良市, 奈良県, 630-8211, 日本 (Japan)\n",
      "北京会議中心 \n",
      " 北京会议中心, 红军营村, 朝阳区 / Chaoyang, 北京市, China 中国\n",
      "Asamushi, Aomori, Japan \n",
      " 浅虫温泉, 県道269号線, 青森市, 青森県, 日本 (Japan)\n",
      "National University of Singapore, Singapore \n",
      " National University of Singapore, South Buona Vista Road, Nepal Hill, Pasir Panjang, Southwest, 118177, Singapore\n"
     ]
    }
   ],
   "source": [
    "\n",
    "for file in g:\n",
    "    with open(file, 'r') as f:\n",
    "        lines = f.read()\n",
    "        if lines.find('location: \"') > 1:\n",
    "            loc_start = lines.find('location: \"') + 11\n",
    "            lines_trim = lines[loc_start:]\n",
    "            loc_end = lines_trim.find('\"')\n",
    "            location = lines_trim[:loc_end]\n",
    "                            \n",
    "           \n",
    "        location_dict[location] = geocoder.geocode(location)\n",
    "        print(location, \"\\n\", location_dict[location])\n"
   ]
  },
  {
   "cell_type": "code",
   "execution_count": 12,
   "metadata": {},
   "outputs": [
    {
     "data": {
      "text/plain": [
       "'Written map to ../talkmap/'"
      ]
     },
     "execution_count": 12,
     "metadata": {},
     "output_type": "execute_result"
    }
   ],
   "source": [
    "m = getorg.orgmap.create_map_obj()\n",
    "getorg.orgmap.output_html_cluster_map(location_dict, folder_name=\"../talkmap\", hashed_usernames=False)"
   ]
  },
  {
   "cell_type": "code",
   "execution_count": null,
   "metadata": {},
   "outputs": [],
   "source": []
  }
 ],
 "metadata": {
  "anaconda-cloud": {},
  "kernelspec": {
   "display_name": "Python 3",
   "language": "python",
   "name": "python3"
  },
  "language_info": {
   "codemirror_mode": {
    "name": "ipython",
    "version": 3
   },
   "file_extension": ".py",
   "mimetype": "text/x-python",
   "name": "python",
   "nbconvert_exporter": "python",
   "pygments_lexer": "ipython3",
   "version": "3.7.5"
  }
 },
 "nbformat": 4,
 "nbformat_minor": 1
}
